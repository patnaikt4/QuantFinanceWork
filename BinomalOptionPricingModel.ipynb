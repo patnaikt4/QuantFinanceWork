{
  "nbformat": 4,
  "nbformat_minor": 0,
  "metadata": {
    "colab": {
      "provenance": []
    },
    "kernelspec": {
      "name": "python3",
      "display_name": "Python 3"
    },
    "language_info": {
      "name": "python"
    }
  },
  "cells": [
    {
      "cell_type": "markdown",
      "source": [
        "## Binomial Asset Pricing Model\n",
        "\n",
        "This is the implementation of a simple slow and fast binomial pricing model in python. We will treat binomial tree as a network of nodes (i, j) with i representing the time steps and h representing the number of ordered price outcome (lowest - or bottom of tree - to highest).\n",
        "\n",
        "\n",
        "\n",
        "*   binomial_tree_slow\n",
        "*   binomial_tree_fast\n",
        "\n"
      ],
      "metadata": {
        "id": "Sl18KxfNpqlg"
      }
    },
    {
      "cell_type": "code",
      "execution_count": 2,
      "metadata": {
        "id": "-C3es39Bn808"
      },
      "outputs": [],
      "source": [
        "import numpy as np"
      ]
    },
    {
      "cell_type": "markdown",
      "source": [
        "## Binomial Tree Representation\n",
        "\n",
        "Stock Tree can be represented using nodes (i, j) and inital stock price S₀\n",
        "\n",
        "![image.png](data:image/png;base64,iVBORw0KGgoAAAANSUhEUgAAAJYAAAAlCAYAAACgXxA5AAAPEElEQVR4Xu3bBWxjVxMF4LtlZmZmblWUyowqMzOzyszMzMytysxSmZmZmbndv9+oE71149hONlVWvy2tktjv3Xtn5syZM/O8/UYdddT+pf1qe2Age6BfG1gD2aPt5cIDbWC1gdArHmgDq1fc2l60Daw2BnrFA21g9Ypb24u2gdXHMNCvX78y+OCDl/79+5e//vqr43T+7urlPtdU7//zzz9bts79gw02WKzj/kb71tugJWDZzKu7m7Vs5f/ZDfwLTL/88ktYPuyww7bkgQSD+4HD/c3GqhrbX3/9Nc4xzDDDxDrNrlE9bEvAasnK9sVNeaDKNBhi9NFHL3PNNVf5448/yv3339/BGo2CCwDuGXvsseP+77//vtx3330BjEZkkIC2BzDOM888ZYQRRigPPPBA+e6774K9Gu1fa2xLwEpUx5zi782qf+fC1QP4vdUDNRWNXrqo6sAsB7Vb1drXKGiNjlrd8+effy5zzz13Ofzww8uPP/5Ydt111/Lhhx+W33//vaPM5f7p/4yB8glMCy64YDn44IPLl19+2XE/wDVTRgF74oknLkcccUT83GeffQKc3rd+K7Y2Baw0PtFvA1T522+/RZYkgIYYYogy9NBDx9/eH2qoobqF9kbB6I3PazUK2wSUHal1hhxyyLDJi7P93tPEqZYgwRt33HHLhBNOGPu+/PLL5aeffurwb9qdJc/58sX3WGasscYqE0wwQdz36quvFmBtBIhcz/7uByqxfvvtt8tnn332L1A34/+WgJWoVYNHHHHEMuaYY5YxxhijDD/88OH8b775pnz++ecBLo754osvIjiDyitZAKgEiYPZB1ACpCx8/fXXoT1c88knnwwgsLtrZ4JLGVx77bXLbLPNVh555JFy+umnd2icTN4EAf8DkLP5zNlGG220ssoqq5SJJpqo3HDDDeWaa67pYJp6Z8vESJuXW265ssgii5R33323nHrqqWFvq2wVFa2ZRzpVxrLJZJNNVjbaaKOgXZT9+uuvl5FGGiky7f333y+jjDJKUOjJJ58cBufBuuv4/+K+7IYkyEwzzVTWXXfdsuiii8b5n3322cjkccYZpwNYN910UznhhBMiqBncZs5ZLX3V35PtDzjggADXcccdV4488shYO7sze2ESIOfrTTfdNIAkwV1/6aWXlqOOOqosueSSZccddyznnHNOnA8R1HtZn65CBPbZeOONy7HHHhvA3GqrrTrubVXENwWsPBSnM2iXXXYp66+/flD1/vvvX+666644nENtt912wWabb755ufbaawuHdSX+elpKmglmM9dwXNp32GGHlcUWWyxYw+9ENBZYZ511yg477BDJtNtuu5Wrrroq7MvxQDP7VK+p+kVQMdCJJ55YZphhhrLFFluUO+64I3yZGivv5TOd39JLLx0gGHnkkcvOO+9cnnvuuXLGGWdEAyDx/b3aaqvFumzLcUQwyj+C/K233iq33XZb+fbbb6PS7LXXXrG3dY8++ugOxuwVYFW7hpVXXrkceOCBZfzxxw/H7r333iEUGeo9wm/66afvMCyzuZ7Q7w6watfqzhq1IAAQumSppZaK4CgrZ555ZgRsuOGGi+BiYu9hLmyByeisBFZVL2Xg8mwCKzgZoOqZvQdYSiDW+fTTTyNxX3vttQ5gJfBdh138wyj8DRwJoPPPP7+88cYbZcMNNwwp4hrxSF1YPaMzvPTSS+Xyyy+PJmG66aYrJ510Upl88snLtttuW2655ZaOkUWrnWFTjJXA8lMmyFb0+/DDD5c99tijPPbYY+F8xm+//fZlqqmmKvvtt1/orRz01XaUKShbAUWWq2TBqpjtSkNkMLoSsRJAV7XqqquW0047Ley5/fbbwx5aCniAC0NjgJ122ilKUor5DBwApdjnD2dN0Q+41vC+93JEQN84I3BgrBtvvDH8SjhnM2R9Z3Cu9IM4APh1110XFWKttdaKjvDmm2+On2SJSmIN92R3WPW5NZVK5KCE0lUff/xx2WyzzaIiYczqoLZZVm4aWHmYOeecM0Bj1uGgV199dVCmLHFIoHIY2cxZmalV8VmbNUnNtVneWdkQGP+qU+GuwCl4gp/OrXdtAmfGGWcMVpp22mnLDz/8UC666KIQ0Tokot3nXs8880ycAVNnZ2yfDLz3MPi8884bpU23d+eddwZoNDurr756mXrqqQO8Sp7zYX9yAiicwdqAyV5NxOKLL16Ia2cFautOMcUU5Zhjjgk9e8ghhwS4XnzxxRhZ0IFVn3ZWNdhiD+V9vfXWi1g6j1EHgLGnO2OjpoBVrckybfnllw/toZY7LOcceuih5amnngoHcUiWCNnAMf5mQArQWsZKes/76rGLcoSyZWJXmZR6AhsAxUcffTSAxugs8+xNrG+wwQZl3333jZLn/DTIQQcdFJ1SdrnsZs+UU04Z7G0/zGavBD0wAMo222wT6+y5557liiuuiKTEDICn5ACRDpTYBlz733vvvRFU59cYbb311iHIlUf6xxrYStdG991zzz3BMhqOBx98MBKCzeKV+qqaVAk4ZwXSv5u4iOlKK60UwD7vvPPivm7rx2a6wmqQOVNQV1xxxajfsg7FP/nkkzFQky0ZVD85XhdJSApM6pWqEMUqdMAkk0wS66j3nekoTlpooYUCxMQ0ANfLQns7K6DQDaecckqcK8FdLaOZkZzImZy87LLLRhmcdNJJw/GyGBiefvrpuNW+ShdB/8QTTwRLOz/2uPvuuyORnHeTTTYJ6YDR+ctsCZiUOt30WWedFWwx3njjBTBeeeWVaI74KvUYoNF67AVO69NgusZ33nknmIZ/jUiqCZt2JaBq2dr6ksKk3v66Ue9JBDKn1x/ppMbKOp8ljtDdfffdyyyzzBIGYS6Gc6JDYSH07sBac5lZbQTScEHQEKyxxhqx3sUXXxwG1oLAex5ZzDzzzLF+o4es9sIwshyTVLuiKrBdl2vlnoKolcdcEsPn5kLso12UOCXS7G7NNdeMzuzKK6+MzwDHfhhJ9it7OmSAAV7NwcILLxzXS0SMwx7nBBaiOTUfBlPmCHsJosRZg8bTgWM29wMiYCWL14KpFlTJuNhfXEgYIJU8l1xyScfzylY08ADSpRFjOSiWUdsx06233hrgQNHondg1e+F8AlAmXnbZZcFq/gEdMMhOYrB2YGot180666wRCOWUg6tT/gREUrogNzN4zbKrPANMvZe9lADNhtGCF/vsh5EkB8Gu1Om2lBpBlQySgB6x/tlnn13mn3/+suWWW0Z3N8ccc0QjMPvss4foP/744wNkwIEVaSJgVQYBCVPzU2o2AFLu+FfnR6BrlKaZZpoozeaIwG2GpSSKkzNXWbweW2UpxLTAC5Tih/nYzp7uiPaOStAIWDZRzhgnK9RhpYHRyT46GaxkFsJgqBcIWSmztb0CwDnJCHmvv1Ex4Ppdu/z8888PoMXysADgWZrMR+GA3VkprJY219ALwO7MtYAFUmxD3wAM/YI9sptlu9JrGs3x9ibCMRmQsVXL7xyGkyussEL8jaHZj22Iddc+9NBD5dxzzy3LLLNMrAUoxHxO8rN88oPGgcbDeJhcQtNYgGcPpd11gEekA0jtrKmrZqjK2Dkc5Z/sQjOZWx0zNA0s9V9moGE0T0R+8MEHHVqJMZynHJi/YCwCVbAWWGCByFKlkVPoh2p7ziDOWWKJJaIboYfoDFmTOqbqgAQhtsCCQJ/A8jP/JSjywSz2UHa8X308kSDHMuwj0g0InUP2Y2jAopuAhBg2PHz88ceDdbCZ0sVGfsipOX+4R9Cx2qOPPhqfWYNecnZrpGZ77733BkiQBJZ5Esabb775gg0xowE14JIhBrgAbC3JW52nVXVuV+WsXmKm/wcasHIhh0xK9nhD5vgM7RoxvPDCCzFENNeSxTqgCy+8MAx98803o7xxohJwwQUXhLDPp+S5B6r1HoHrc1nJeRix6piq0PZ7PYruTPC7vspS1XLIPmwBzM6pnNA/2EtZUprZLimUCkEGJPvzBxZSzgBLKQMeYANSfsLebDN64RMC2Rk9MlJWJRrGMmjO+ZbzWQtjkReqgYZF14d1Jat5k45cIwFQgEzQJ9PWrfn/4Qf/GjdUgSXA2nvZaX6FqZQgP+kgsxlGA8f1118f9Z7DZLpAuI+mIDQJxBSX9kjmEFwBEVxBErzsbOplS71OsJ7fOstYaxDoWnklTPtubsNeIhaL6PKUXmeUNMo0OaDs6NL8wzrOj2WASZnDesCJrYDSCwsDAFDQc0Q/QFrX73nG9A02to/O1D6SQ8UARklMk4qB0mq0AIiqgVhU/daqr6o+7K5wD7arp7GyU0oBzlAOl0VafQGhX/wTBN2NEqJGyz4CE0iAj3Oxkc+yW8whJy3G4dbEVr5c1pOvxDaTlOl4P7GDLlMSEe9KDTGtlEsQNinxmgq2JisAiGTRlZlVsU03xQ5JogngA12XJKIvsbyxihGNNY1WgDu/DVJl5izbQERciwMA8jW2wn5YFWCd3bmSzbtbvprxXbPXdDkgzQNyKOcIQoJJFvs8n8qnYd4HQkNUwAJAGUVsammxF00gW2UgrQBYmEDZ4PBmOr5mDax3XdX5aR9bnF2wgTsfveQ3AFK7KYUSgtDPgSYAKFsSyJMJjUxO5Z0hp//ey64LWJwjJUdtyU+g5FeFnSdByEfOVW00qhqzp/7p6f0NJ+8Omxql2inUUmZ1ustxBL95DkAqIWYzRhNmLgJI5Humhc3MhjzvQvvVr4n01Lhm7m/VPmuyCfDIA93wV199FQG2lg7UWCUBUC1F6b/qg+j0W1cJ4PpMhNpurXr/IAWsZoJTe006M2t0Gp9fRPPYQeuN1k2v6QVA07lpzRt9lbY7ZxqY97AvGw9BT9bALDndT504MPcdlNZqyFitGlMtMdWv9AIL/aL0CQb2Mk2ma8xhCH1NwaAArBCn//yPpVrGqM6S6nWpVZ/2RFzXxqYnYrvVODe6fqADqzP2ygl4PojOb2kSugSpdjy/W53fO2p08PbnfdsDvQ6szO5qO52tPgFKr+T/n+tLGde3w9b3T/efAKtaOtIlmCnLRvXLcX2hVe77Yev7J/zPgNXIFW1ANfLQoPV5nwHWoOW29mkbeaANrEYean/eLQ+0gdUtt7VvauSB/wFmWCsFKDawhAAAAABJRU5ErkJggg==)\n",
        "\n",
        "\n",
        "Cᵢ,ⱼ represents the contract price at each node (i, j). Where Cₙ,ⱼ represents the final payoff function that we can define.\n",
        "\n",
        "In this section I'll attempt to price a European Call, so Cₙ,ⱼ = max(Sₙ,ⱼ - K, 0)"
      ],
      "metadata": {
        "id": "-ZQVLnsVqDGj"
      }
    },
    {
      "cell_type": "code",
      "source": [
        "# Initialize Parameters\n",
        "S0 = 100        # Initial Stock Price\n",
        "K = 100         # Strike Price\n",
        "T = 1           # Time to Maturity in Years\n",
        "r = 0.06        # Annual Risk Free Rate\n",
        "N = 3           # Number of Time Steps\n",
        "u = 1.1         # up-factor in binomial models\n",
        "d = 1/u         # ensure recombining tree\n",
        "opttype = 'C'   # Option Type Call or Put"
      ],
      "metadata": {
        "id": "l5jZta3lqCky"
      },
      "execution_count": 3,
      "outputs": []
    },
    {
      "cell_type": "markdown",
      "source": [
        "## Binomial Tree Slow\n",
        "\n",
        "Here we use for loops to iterate through nodes j at each time step i.\n"
      ],
      "metadata": {
        "id": "-MC6Soybrz1_"
      }
    },
    {
      "cell_type": "code",
      "source": [
        "def binomial_tree_slow(K,T,S0,r,N,u,d,opttype='C'):\n",
        "    #precompute constants\n",
        "    dt = T/N\n",
        "    q = (np.exp(r*dt) - d) / (u-d)\n",
        "    disc = np.exp(-r*dt)\n",
        "\n",
        "    # initialise asset prices at maturity - Time step N\n",
        "    S = np.zeros(N+1)\n",
        "    S[0] = S0*d**N\n",
        "    for j in range(1,N+1):\n",
        "        S[j] = S[j-1]*u/d\n",
        "\n",
        "    # initialise option values at maturity\n",
        "    C = np.zeros(N+1)\n",
        "    for j in range(0,N+1):\n",
        "        C[j] = max(0, S[j]-K)\n",
        "\n",
        "    # step backwards through tree\n",
        "    for i in np.arange(N,0,-1):\n",
        "        for j in range(0,i):\n",
        "            C[j] = disc * ( q*C[j+1] + (1-q)*C[j] )\n",
        "\n",
        "    return C[0]\n",
        "\n",
        "binomial_tree_slow(K, T, S0, r, N, u, d, opttype='C')"
      ],
      "metadata": {
        "id": "WkDcvJ-Jsjch",
        "colab": {
          "base_uri": "https://localhost:8080/"
        },
        "outputId": "b950da44-e81c-4829-dc04-39978dbf3d4b"
      },
      "execution_count": 4,
      "outputs": [
        {
          "output_type": "execute_result",
          "data": {
            "text/plain": [
              "10.145735799928817"
            ]
          },
          "metadata": {},
          "execution_count": 4
        }
      ]
    },
    {
      "cell_type": "markdown",
      "source": [
        "## A Fast Binomial Tree\n",
        "\n",
        "Now we will vectorise out the code using numpy arrays instead of for loops through all j nodes"
      ],
      "metadata": {
        "id": "UORhLBgguwu8"
      }
    },
    {
      "cell_type": "code",
      "source": [
        "def binomial_tree_fast(K,T,S0,r,N,u,d,opttype='C'):\n",
        "    #precompute constants\n",
        "    dt = T/N\n",
        "    q = (np.exp(r*dt) - d) / (u-d)\n",
        "    disc = np.exp(-r*dt)\n",
        "\n",
        "    # initialise asset prices at maturity - Time step N\n",
        "    C = S0 * d ** (np.arange(N,-1,-1)) * u ** (np.arange(0,N+1,1))\n",
        "\n",
        "    # initialise option values at maturity\n",
        "    C = np.maximum( C - K , np.zeros(N+1) )\n",
        "\n",
        "    # step backwards through tree\n",
        "    for i in np.arange(N,0,-1):\n",
        "        C = disc * ( q * C[1:i+1] + (1-q) * C[0:i] )\n",
        "\n",
        "    return C[0]\n",
        "\n",
        "binomial_tree_fast(K,T,S0,r,N,u,d,opttype='C')"
      ],
      "metadata": {
        "colab": {
          "base_uri": "https://localhost:8080/"
        },
        "id": "v6GMJo7PqFDG",
        "outputId": "44b73fa4-b36d-47a2-ba61-21d3c86eebc8"
      },
      "execution_count": 7,
      "outputs": [
        {
          "output_type": "execute_result",
          "data": {
            "text/plain": [
              "10.145735799928826"
            ]
          },
          "metadata": {},
          "execution_count": 7
        }
      ]
    },
    {
      "cell_type": "markdown",
      "source": [
        "## Comparing the Speeds of Both"
      ],
      "metadata": {
        "id": "jeWQ06h1vjid"
      }
    },
    {
      "cell_type": "code",
      "source": [
        "import time\n",
        "# Timing the functions for different N\n",
        "for N in [3, 50, 100, 1000, 5000]:\n",
        "    # Time the slow function\n",
        "    start_time = time.time()\n",
        "    binomial_tree_slow(K, T, S0, r, N, u, d, opttype='C')\n",
        "    slow_time = time.time() - start_time\n",
        "\n",
        "    # Time the fast function\n",
        "    start_time = time.time()\n",
        "    binomial_tree_fast(K, T, S0, r, N, u, d, opttype='C')\n",
        "    fast_time = time.time() - start_time\n",
        "\n",
        "    # Print results\n",
        "    print(f\"N={N}: Slow function time = {slow_time:.6f}s, Fast function time = {fast_time:.6f}s\")"
      ],
      "metadata": {
        "colab": {
          "base_uri": "https://localhost:8080/"
        },
        "id": "tzTZ81vxvrJ2",
        "outputId": "88be5e5e-c9ed-451c-aa5d-3d73ac168719"
      },
      "execution_count": 11,
      "outputs": [
        {
          "output_type": "stream",
          "name": "stdout",
          "text": [
            "N=3: Slow function time = 0.000119s, Fast function time = 0.000599s\n",
            "N=50: Slow function time = 0.001455s, Fast function time = 0.000648s\n",
            "N=100: Slow function time = 0.004305s, Fast function time = 0.000642s\n",
            "N=1000: Slow function time = 0.374216s, Fast function time = 0.006777s\n",
            "N=5000: Slow function time = 9.950016s, Fast function time = 0.055067s\n"
          ]
        }
      ]
    },
    {
      "cell_type": "code",
      "source": [],
      "metadata": {
        "id": "yRFzzIzRvrXj"
      },
      "execution_count": null,
      "outputs": []
    }
  ]
}