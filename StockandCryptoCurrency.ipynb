{
  "nbformat": 4,
  "nbformat_minor": 0,
  "metadata": {
    "colab": {
      "provenance": []
    },
    "kernelspec": {
      "name": "python3",
      "display_name": "Python 3"
    },
    "language_info": {
      "name": "python"
    }
  },
  "cells": [
    {
      "cell_type": "markdown",
      "source": [],
      "metadata": {
        "id": "gZTbMIT4AmIM"
      }
    },
    {
      "cell_type": "code",
      "execution_count": 17,
      "metadata": {
        "id": "xPPG9l2jAefQ"
      },
      "outputs": [],
      "source": [
        "import pandas_datareader.data as web # to collect data\n",
        "import datetime as dt #to specify start and end dates\n",
        "import yfinance as yf\n",
        "import pandas as pd\n",
        "import matplotlib.pyplot as plt\n",
        "import matplotlib.dates as mdates\n",
        "from matplotlib import style"
      ]
    },
    {
      "cell_type": "code",
      "source": [
        "style.use('ggplot')"
      ],
      "metadata": {
        "id": "kUM0f-Yb4Oxv"
      },
      "execution_count": 18,
      "outputs": []
    },
    {
      "cell_type": "code",
      "source": [
        "start = dt.datetime(2024, 1, 1)\n",
        "end = dt.datetime(2024, 12, 16)\n",
        "tickers = ['GOOG', 'AMZN', 'AAPL']\n",
        "cc = 'BTC-USD'"
      ],
      "metadata": {
        "id": "pEZDQhLyApWZ"
      },
      "execution_count": 19,
      "outputs": []
    },
    {
      "cell_type": "code",
      "source": [
        "for ticker in tickers:\n",
        "  data = yf.download(ticker, start=start, end=end)\n",
        "  data.to_csv('{}.csv'.format(ticker))"
      ],
      "metadata": {
        "colab": {
          "base_uri": "https://localhost:8080/"
        },
        "id": "JHQhzSrbBAQf",
        "outputId": "64c1be1e-d946-4168-da68-f82095ddaa7f"
      },
      "execution_count": 20,
      "outputs": [
        {
          "output_type": "stream",
          "name": "stderr",
          "text": [
            "[*********************100%***********************]  1 of 1 completed\n",
            "[*********************100%***********************]  1 of 1 completed\n",
            "[*********************100%***********************]  1 of 1 completed\n"
          ]
        }
      ]
    },
    {
      "cell_type": "code",
      "source": [
        "print(data.columns)"
      ],
      "metadata": {
        "colab": {
          "base_uri": "https://localhost:8080/"
        },
        "id": "zTGUmH2lnc_R",
        "outputId": "2a983a5b-397e-41ad-c376-52442ef0b5ae"
      },
      "execution_count": 21,
      "outputs": [
        {
          "output_type": "stream",
          "name": "stdout",
          "text": [
            "MultiIndex([('Adj Close', 'AAPL'),\n",
            "            (    'Close', 'AAPL'),\n",
            "            (     'High', 'AAPL'),\n",
            "            (      'Low', 'AAPL'),\n",
            "            (     'Open', 'AAPL'),\n",
            "            (   'Volume', 'AAPL')],\n",
            "           names=['Price', 'Ticker'])\n"
          ]
        }
      ]
    },
    {
      "cell_type": "code",
      "source": [
        "data = yf.download(cc, start=start, end=end)\n",
        "print(data.head(3))\n",
        "print(data.tail(3))"
      ],
      "metadata": {
        "colab": {
          "base_uri": "https://localhost:8080/"
        },
        "id": "Uuq8z47qoQTB",
        "outputId": "b43c19ae-c176-4253-c2b4-a74e5b83d0d1"
      },
      "execution_count": 27,
      "outputs": [
        {
          "output_type": "stream",
          "name": "stderr",
          "text": [
            "\r[*********************100%***********************]  1 of 1 completed"
          ]
        },
        {
          "output_type": "stream",
          "name": "stdout",
          "text": [
            "Price          Adj Close         Close          High           Low  \\\n",
            "Ticker           BTC-USD       BTC-USD       BTC-USD       BTC-USD   \n",
            "Date                                                                 \n",
            "2024-01-01  44167.332031  44167.332031  44175.437500  42214.976562   \n",
            "2024-01-02  44957.968750  44957.968750  45899.707031  44176.949219   \n",
            "2024-01-03  42848.175781  42848.175781  45503.242188  40813.535156   \n",
            "\n",
            "Price               Open       Volume  \n",
            "Ticker           BTC-USD      BTC-USD  \n",
            "Date                                   \n",
            "2024-01-01  42280.234375  18426978443  \n",
            "2024-01-02  44187.140625  39335274536  \n",
            "2024-01-03  44961.601562  46342323118  \n",
            "Price           Adj Close          Close           High            Low  \\\n",
            "Ticker            BTC-USD        BTC-USD        BTC-USD        BTC-USD   \n",
            "Date                                                                     \n",
            "2024-12-13  101459.257812  101459.257812  101888.804688   99233.281250   \n",
            "2024-12-14  101372.968750  101372.968750  102618.882812  100634.054688   \n",
            "2024-12-15  104298.695312  104298.695312  105047.539062  101227.031250   \n",
            "\n",
            "Price                Open       Volume  \n",
            "Ticker            BTC-USD      BTC-USD  \n",
            "Date                                    \n",
            "2024-12-13  100046.648438  56894751583  \n",
            "2024-12-14  101451.437500  40422968793  \n",
            "2024-12-15  101373.531250  51145914137  \n"
          ]
        },
        {
          "output_type": "stream",
          "name": "stderr",
          "text": [
            "\n"
          ]
        }
      ]
    },
    {
      "cell_type": "markdown",
      "source": [
        "Visualizing Cryptocurrency Data"
      ],
      "metadata": {
        "id": "Os7u8bNP6xkK"
      }
    },
    {
      "cell_type": "code",
      "source": [
        "from google.colab import output\n",
        "output.disable_custom_widget_manager()"
      ],
      "metadata": {
        "id": "xY37zbZp9NkJ"
      },
      "execution_count": 23,
      "outputs": []
    },
    {
      "cell_type": "code",
      "source": [
        "data = pd.read_csv('/content/AMZN.csv', skiprows=2)  # Skip first two rows for now\n",
        "\n",
        "# Rename columns with appropriate labels\n",
        "data.columns = ['Date', 'Adj Close', 'Close', 'High', 'Low', 'Open', 'Volume']\n",
        "\n",
        "data['Date'] = pd.to_datetime(data['Date'])\n",
        "data.set_index('Date', inplace=True)\n",
        "\n",
        "# Verify cleaned data\n",
        "print(data.head())\n",
        "print(data.columns)\n"
      ],
      "metadata": {
        "colab": {
          "base_uri": "https://localhost:8080/"
        },
        "id": "MeGC_p9Cp8fh",
        "outputId": "7cf604d8-dfa0-4378-ea69-095322441f71"
      },
      "execution_count": 32,
      "outputs": [
        {
          "output_type": "stream",
          "name": "stdout",
          "text": [
            "             Adj Close       Close        High         Low        Open  \\\n",
            "Date                                                                     \n",
            "2024-01-02  149.929993  149.929993  152.380005  148.389999  151.539993   \n",
            "2024-01-03  148.470001  148.470001  151.050003  148.330002  149.199997   \n",
            "2024-01-04  144.570007  144.570007  147.380005  144.050003  145.589996   \n",
            "2024-01-05  145.240005  145.240005  146.589996  144.529999  144.690002   \n",
            "2024-01-08  149.100006  149.100006  149.399994  146.149994  146.740005   \n",
            "\n",
            "              Volume  \n",
            "Date                  \n",
            "2024-01-02  47339400  \n",
            "2024-01-03  49425500  \n",
            "2024-01-04  56039800  \n",
            "2024-01-05  45124800  \n",
            "2024-01-08  46757100  \n",
            "Index(['Adj Close', 'Close', 'High', 'Low', 'Open', 'Volume'], dtype='object')\n"
          ]
        }
      ]
    },
    {
      "cell_type": "code",
      "source": [
        "%matplotlib inline\n",
        "ax1 = plt.subplot2grid((7, 1), (0, 0), rowspan = 4,\n",
        "                       colspan = 1, title = 'Amazon - 2024')\n",
        "ax2 = plt.subplot2grid((7, 1), (5, 0), rowspan = 2,\n",
        "                       colspan = 1, sharex = ax1)\n",
        "ax1.plot(data['Adj Close'], label = 'Price')\n",
        "ax2.bar(data.index, data['Volume'], label = 'Volume')\n",
        "ax2.xaxis.set_major_formatter(mdates.DateFormatter('%b-%d'))\n",
        "ax1.legend()\n",
        "ax2.legend()\n",
        "plt.savefig('Amazon-2024.png')\n",
        "plt.show()"
      ],
      "metadata": {
        "colab": {
          "base_uri": "https://localhost:8080/",
          "height": 453
        },
        "id": "CzUkHKWI8gkx",
        "outputId": "937161d0-76fa-473a-d0d0-96c9896924d3"
      },
      "execution_count": 25,
      "outputs": [
        {
          "output_type": "display_data",
          "data": {
            "text/plain": [
              "<Figure size 640x480 with 2 Axes>"
            ],
            "image/png": "[encoded data removed]"
          },
          "metadata": {}
        }
      ]
    }
  ]
}